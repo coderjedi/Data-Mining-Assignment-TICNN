{
  "nbformat": 4,
  "nbformat_minor": 0,
  "metadata": {
    "colab": {
      "name": "Preprocessing_image_files.ipynb",
      "provenance": []
    },
    "kernelspec": {
      "name": "python3",
      "display_name": "Python 3"
    },
    "language_info": {
      "name": "python"
    }
  },
  "cells": [
    {
      "cell_type": "code",
      "metadata": {
        "colab": {
          "base_uri": "https://localhost:8080/"
        },
        "id": "ybOhhv_z4UVu",
        "outputId": "c4e0db13-e633-4815-ccd8-768044de86df"
      },
      "source": [
        "from google.colab import drive\n",
        "\n",
        "drive.mount('/content/gdrive')"
      ],
      "execution_count": null,
      "outputs": [
        {
          "output_type": "stream",
          "text": [
            "Mounted at /content/gdrive\n"
          ],
          "name": "stdout"
        }
      ]
    },
    {
      "cell_type": "code",
      "metadata": {
        "id": "RrHYhdTs3-kC"
      },
      "source": [
        "import pandas as pd \n",
        "df_img = pd.read_pickle(\"/content/gdrive/MyDrive/TICNN_Implementation/TICNN/final_image_df.pkl\")"
      ],
      "execution_count": null,
      "outputs": []
    },
    {
      "cell_type": "code",
      "metadata": {
        "colab": {
          "base_uri": "https://localhost:8080/"
        },
        "id": "oeSdcmYhWc9w",
        "outputId": "cb5c2a67-dd81-4fde-ada8-4c96173a3bb3"
      },
      "source": [
        "#code for creating resized images\n",
        "from PIL import Image\n",
        "import numpy as np\n",
        "import os\n",
        "import cv2\n",
        "from PIL import UnidentifiedImageError\n",
        "\n",
        "path = \"/content/gdrive/MyDrive/TICNN_Implementation/INITIAL_PREPROCESSING/images\"\n",
        "outPath = \"/content/gdrive/MyDrive/images_resized\"\n",
        "problem_files=[]\n",
        "    # iterate through the names of contents of the folder\n",
        "for i,row in df_img.iterrows():\n",
        "        image_path=str(row['image_name'])+'.png'\n",
        "        try:\n",
        "          fullpath = os.path.join(outPath,image_path)\n",
        "          input_path = os.path.join(path, image_path)\n",
        "          image = Image.open(input_path)\n",
        "          new_image = image.resize((50,50))\n",
        "          new_image.save(fullpath)            \n",
        "        except:\n",
        "          problem_files.append(image_path)\n",
        "          continue"
      ],
      "execution_count": null,
      "outputs": [
        {
          "output_type": "stream",
          "text": [
            "/usr/local/lib/python3.7/dist-packages/PIL/TiffImagePlugin.py:788: UserWarning: Corrupt EXIF data.  Expecting to read 4 bytes but only got 0. \n",
            "  warnings.warn(str(msg))\n"
          ],
          "name": "stderr"
        }
      ]
    },
    {
      "cell_type": "code",
      "metadata": {
        "colab": {
          "base_uri": "https://localhost:8080/"
        },
        "id": "OFpldMOLoVHL",
        "outputId": "45eb87f0-1f7d-4c5c-cf33-7ba342bec4e7"
      },
      "source": [
        "problem_files"
      ],
      "execution_count": null,
      "outputs": [
        {
          "output_type": "execute_result",
          "data": {
            "text/plain": [
              "['6716.png', '7026.png', '7911.png', '8746.png', '8763.png', '8787.png']"
            ]
          },
          "metadata": {
            "tags": []
          },
          "execution_count": 46
        }
      ]
    },
    {
      "cell_type": "code",
      "metadata": {
        "id": "8dc47zV7E1VT"
      },
      "source": [
        "image_path='6716.png'  #'6716.png', '7026.png', '7911.png'\n",
        "path = \"/content/gdrive/MyDrive/TICNN_Implementation/INITIAL_PREPROCESSING/images\"\n",
        "outPath = \"/content/gdrive/MyDrive/images_resized\"\n",
        "fullpath = os.path.join(outPath,image_path)\n",
        "input_path = os.path.join(path, image_path)\n",
        "image = Image.open(input_path)\n",
        "new_image = image.convert('RGB').resize((50,50))\n",
        "new_image.save(fullpath)"
      ],
      "execution_count": null,
      "outputs": []
    },
    {
      "cell_type": "code",
      "metadata": {
        "id": "SREWD7mkF6Nb"
      },
      "source": [
        "from PIL import ImageFile\n",
        "ImageFile.LOAD_TRUNCATED_IMAGES = True\n",
        "image_path='8787.png'  #'8746.png', '8763.png', '8787.png'\n",
        "path = \"/content/gdrive/MyDrive/TICNN_Implementation/INITIAL_PREPROCESSING/images\"\n",
        "outPath = \"/content/gdrive/MyDrive/images_resized\"\n",
        "fullpath = os.path.join(outPath,image_path)\n",
        "input_path = os.path.join(path, image_path)\n",
        "image = Image.open(input_path)\n",
        "new_image = image.resize((50,50))\n",
        "new_image.save(fullpath)"
      ],
      "execution_count": null,
      "outputs": []
    },
    {
      "cell_type": "code",
      "metadata": {
        "id": "4YdCbrmFLOCh"
      },
      "source": [
        "arr = []\n",
        "\n",
        "for i,row in df_img.iterrows():\n",
        "        arr.append(asarray(Image.open(os.path.join(path, str(row['image_name'])+'.png'))))"
      ],
      "execution_count": null,
      "outputs": []
    },
    {
      "cell_type": "code",
      "metadata": {
        "colab": {
          "base_uri": "https://localhost:8080/"
        },
        "id": "x3MEybAqOx4t",
        "outputId": "42a90c6f-0979-4b6d-96fa-b804dcf4481e"
      },
      "source": [
        "img_vec=pd.DataFrame(arr)"
      ],
      "execution_count": null,
      "outputs": [
        {
          "output_type": "stream",
          "text": [
            "/usr/local/lib/python3.7/dist-packages/pandas/core/internals/construction.py:305: VisibleDeprecationWarning: Creating an ndarray from ragged nested sequences (which is a list-or-tuple of lists-or-tuples-or ndarrays with different lengths or shapes) is deprecated. If you meant to do this, you must specify 'dtype=object' when creating the ndarray\n",
            "  values = np.array([convert(v) for v in values])\n"
          ],
          "name": "stderr"
        }
      ]
    },
    {
      "cell_type": "code",
      "metadata": {
        "colab": {
          "base_uri": "https://localhost:8080/",
          "height": 194
        },
        "id": "h_MuZ_ZPO8wK",
        "outputId": "5a543f33-3d80-4a34-ef24-0c4e64904446"
      },
      "source": [
        "img_vec.head()"
      ],
      "execution_count": null,
      "outputs": [
        {
          "output_type": "execute_result",
          "data": {
            "text/html": [
              "<div>\n",
              "<style scoped>\n",
              "    .dataframe tbody tr th:only-of-type {\n",
              "        vertical-align: middle;\n",
              "    }\n",
              "\n",
              "    .dataframe tbody tr th {\n",
              "        vertical-align: top;\n",
              "    }\n",
              "\n",
              "    .dataframe thead th {\n",
              "        text-align: right;\n",
              "    }\n",
              "</style>\n",
              "<table border=\"1\" class=\"dataframe\">\n",
              "  <thead>\n",
              "    <tr style=\"text-align: right;\">\n",
              "      <th></th>\n",
              "      <th>0</th>\n",
              "    </tr>\n",
              "  </thead>\n",
              "  <tbody>\n",
              "    <tr>\n",
              "      <th>0</th>\n",
              "      <td>[[[136, 129, 123], [142, 136, 130], [146, 141,...</td>\n",
              "    </tr>\n",
              "    <tr>\n",
              "      <th>1</th>\n",
              "      <td>[[[6, 1, 9], [19, 4, 17], [19, 5, 16], [19, 5,...</td>\n",
              "    </tr>\n",
              "    <tr>\n",
              "      <th>2</th>\n",
              "      <td>[[[14, 7, 1], [17, 8, 1], [14, 6, 1], [16, 7, ...</td>\n",
              "    </tr>\n",
              "    <tr>\n",
              "      <th>3</th>\n",
              "      <td>[[[133, 70, 54], [139, 74, 57], [143, 78, 60],...</td>\n",
              "    </tr>\n",
              "    <tr>\n",
              "      <th>4</th>\n",
              "      <td>[[[6, 8, 42], [27, 27, 48], [60, 67, 117], [60...</td>\n",
              "    </tr>\n",
              "  </tbody>\n",
              "</table>\n",
              "</div>"
            ],
            "text/plain": [
              "                                                   0\n",
              "0  [[[136, 129, 123], [142, 136, 130], [146, 141,...\n",
              "1  [[[6, 1, 9], [19, 4, 17], [19, 5, 16], [19, 5,...\n",
              "2  [[[14, 7, 1], [17, 8, 1], [14, 6, 1], [16, 7, ...\n",
              "3  [[[133, 70, 54], [139, 74, 57], [143, 78, 60],...\n",
              "4  [[[6, 8, 42], [27, 27, 48], [60, 67, 117], [60..."
            ]
          },
          "metadata": {
            "tags": []
          },
          "execution_count": 107
        }
      ]
    },
    {
      "cell_type": "code",
      "metadata": {
        "id": "UfgaKTCDPUfC"
      },
      "source": [
        "df_img['img_vec'] =img_vec[0]"
      ],
      "execution_count": null,
      "outputs": []
    },
    {
      "cell_type": "code",
      "metadata": {
        "id": "eSB6FbcqSK1T"
      },
      "source": [
        "df_img['final_text']=df_img['title']+df_img['text']"
      ],
      "execution_count": null,
      "outputs": []
    },
    {
      "cell_type": "code",
      "metadata": {
        "id": "nMOS1T4tRjzV"
      },
      "source": [
        "df_img.to_pickle('df_final_new.pkl')"
      ],
      "execution_count": null,
      "outputs": []
    },
    {
      "cell_type": "code",
      "metadata": {
        "colab": {
          "base_uri": "https://localhost:8080/"
        },
        "id": "JCcC8_XIx414",
        "outputId": "83c99388-8a8a-4ab6-b761-0515644671b6"
      },
      "source": [
        "img_latent_error=[]\n",
        "count=0\n",
        "for i,row in df_img.iterrows():\n",
        "  try:\n",
        "      if (row['img_vec'].shape!=(50, 50, 3)):\n",
        "        print(str(i)+'\\n')\n",
        "        img_latent_error.append(i)\n",
        "        count=count+1\n",
        "  except:\n",
        "    img_latent_error.append(i)\n",
        "    count=count+1\n",
        "    continue\n",
        "print(count)"
      ],
      "execution_count": null,
      "outputs": [
        {
          "output_type": "stream",
          "text": [
            "0\n"
          ],
          "name": "stdout"
        }
      ]
    },
    {
      "cell_type": "code",
      "metadata": {
        "colab": {
          "base_uri": "https://localhost:8080/"
        },
        "id": "o3TgX2fv7aI5",
        "outputId": "7a65f39d-a62b-41b8-8f48-1d48a034efd4"
      },
      "source": [
        "from PIL import Image\n",
        "import numpy as np\n",
        "import os\n",
        "import cv2\n",
        "from PIL import UnidentifiedImageError\n",
        "\n",
        "path = \"/content/gdrive/MyDrive/TICNN_Implementation/INITIAL_PREPROCESSING/images\"\n",
        "outPath = \"/content/gdrive/MyDrive/images_resized\"\n",
        "    # iterate through the names of contents of the folder\n",
        "import os\n",
        "image_path=str(16526)+'.png'\n",
        "fullpath = os.path.join(outPath,image_path)\n",
        "input_path = os.path.join(path, image_path)\n",
        "image1 = np.asarray(Image.open(input_path))\n",
        "image2 = np.asarray(Image.open(fullpath))\n",
        "print(image1.shape)\n",
        "print(image2.shape)"
      ],
      "execution_count": null,
      "outputs": [
        {
          "output_type": "stream",
          "text": [
            "(331, 630)\n",
            "(50, 50, 3)\n"
          ],
          "name": "stdout"
        }
      ]
    },
    {
      "cell_type": "code",
      "metadata": {
        "colab": {
          "base_uri": "https://localhost:8080/"
        },
        "id": "rTCBy8Pw-4Az",
        "outputId": "e5e5728f-ce2c-4325-b03a-074a3fe340cd"
      },
      "source": [
        "len(img_latent_error)"
      ],
      "execution_count": null,
      "outputs": [
        {
          "output_type": "execute_result",
          "data": {
            "text/plain": [
              "0"
            ]
          },
          "metadata": {
            "tags": []
          },
          "execution_count": 205
        }
      ]
    },
    {
      "cell_type": "code",
      "metadata": {
        "colab": {
          "base_uri": "https://localhost:8080/"
        },
        "id": "uYb2wqfG9Dko",
        "outputId": "45e3f6ae-e003-4b24-8250-fb122e8da822"
      },
      "source": [
        "outPath = \"/content/gdrive/MyDrive/images_resized\"\n",
        "for i in range(len(img_latent_error)):\n",
        "  image_path=str(img_latent_error[i])+'.png'\n",
        "  fullpath = os.path.join(outPath,image_path)\n",
        "  df_img['img_vec'][img_latent_error[i]]=np.asarray(Image.open(fullpath))\n"
      ],
      "execution_count": null,
      "outputs": [
        {
          "output_type": "stream",
          "text": [
            "/usr/local/lib/python3.7/dist-packages/ipykernel_launcher.py:5: SettingWithCopyWarning: \n",
            "A value is trying to be set on a copy of a slice from a DataFrame\n",
            "\n",
            "See the caveats in the documentation: https://pandas.pydata.org/pandas-docs/stable/user_guide/indexing.html#returning-a-view-versus-a-copy\n",
            "  \"\"\"\n"
          ],
          "name": "stderr"
        }
      ]
    },
    {
      "cell_type": "code",
      "metadata": {
        "id": "pKRpKxzrC9Px"
      },
      "source": [
        "#some images in dataset have 4 channels as png also supports transparency as 4th channel\n",
        "outPath = \"/content/gdrive/MyDrive/images_resized\"\n",
        "for i in range(len(img_latent_error)):\n",
        "  image_path=str(img_latent_error[i])+'.png'\n",
        "  fullpath = os.path.join(outPath,image_path)\n",
        "  df_img['img_vec'][img_latent_error[i]]=np.asarray(Image.open(fullpath))[...,:3]"
      ],
      "execution_count": null,
      "outputs": []
    },
    {
      "cell_type": "code",
      "metadata": {
        "colab": {
          "base_uri": "https://localhost:8080/"
        },
        "id": "_bh3YUxS9CmA",
        "outputId": "f8e36fb1-0dca-4b90-b5f6-022a64871508"
      },
      "source": [
        "#some images in dataset have 1 channels \n",
        "outPath = \"/content/gdrive/MyDrive/images_resized\"\n",
        "for i in range(len(img_latent_error)):\n",
        "  image_path=str(img_latent_error[i])+'.png'\n",
        "  fullpath = os.path.join(outPath,image_path)\n",
        "  df_img['img_vec'][img_latent_error[i]]=np.asarray(Image.open(fullpath).convert('RGB'))"
      ],
      "execution_count": null,
      "outputs": [
        {
          "output_type": "stream",
          "text": [
            "/usr/local/lib/python3.7/dist-packages/ipykernel_launcher.py:6: SettingWithCopyWarning: \n",
            "A value is trying to be set on a copy of a slice from a DataFrame\n",
            "\n",
            "See the caveats in the documentation: https://pandas.pydata.org/pandas-docs/stable/user_guide/indexing.html#returning-a-view-versus-a-copy\n",
            "  \n",
            "/usr/local/lib/python3.7/dist-packages/PIL/Image.py:960: UserWarning: Palette images with Transparency expressed in bytes should be converted to RGBA images\n",
            "  \"Palette images with Transparency expressed in bytes should be \"\n"
          ],
          "name": "stderr"
        }
      ]
    }
  ]
}