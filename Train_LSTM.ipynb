{
  "nbformat": 4,
  "nbformat_minor": 0,
  "metadata": {
    "colab": {
      "name": "Train_LSTM.ipynb",
      "provenance": []
    },
    "kernelspec": {
      "name": "python3",
      "display_name": "Python 3"
    },
    "language_info": {
      "name": "python"
    },
    "accelerator": "GPU"
  },
  "cells": [
    {
      "cell_type": "code",
      "metadata": {
        "colab": {
          "base_uri": "https://localhost:8080/"
        },
        "id": "so6cqgqbL7x7",
        "outputId": "23dd29d2-9629-4514-bc93-2e0a7014074b"
      },
      "source": [
        "from google.colab import drive\n",
        "\n",
        "drive.mount('/content/gdrive')"
      ],
      "execution_count": 2,
      "outputs": [
        {
          "output_type": "stream",
          "text": [
            "Mounted at /content/gdrive\n"
          ],
          "name": "stdout"
        }
      ]
    },
    {
      "cell_type": "code",
      "metadata": {
        "id": "g2fp2Eb3L_6B"
      },
      "source": [
        "import pandas as pd \n",
        "data = pd.read_pickle(\"/content/gdrive/MyDrive/TICNN_Implementation/TICNN/final_text_df.pkl\")"
      ],
      "execution_count": 3,
      "outputs": []
    },
    {
      "cell_type": "code",
      "metadata": {
        "colab": {
          "base_uri": "https://localhost:8080/"
        },
        "id": "oAKM5cfqMCFe",
        "outputId": "4cac3ec4-81f6-4a30-b5d2-464b79fbc1c3"
      },
      "source": [
        "import numpy as np\n",
        "\n",
        "#Progress bars\n",
        "from tqdm import tqdm\n",
        "tqdm.pandas()\n",
        "\n",
        "#Paralelize pandas apply on multiple cores\n",
        "#import swifter\n",
        "\n",
        "from matplotlib import pyplot as plt\n",
        "from matplotlib import style\n",
        "#Nicer style\n",
        "style.use('seaborn')\n",
        "import seaborn as sns\n",
        "\n",
        "from tensorflow import keras as k\n",
        "\n",
        "from sklearn.model_selection import train_test_split\n",
        "\n",
        "from gensim.models import KeyedVectors\n",
        "\n",
        "from sklearn.metrics import accuracy_score, confusion_matrix, classification_report"
      ],
      "execution_count": 4,
      "outputs": [
        {
          "output_type": "stream",
          "text": [
            "/usr/local/lib/python3.7/dist-packages/tqdm/std.py:658: FutureWarning: The Panel class is removed from pandas. Accessing it from the top-level namespace will also be removed in the next version\n",
            "  from pandas import Panel\n"
          ],
          "name": "stderr"
        }
      ]
    },
    {
      "cell_type": "code",
      "metadata": {
        "id": "7ZgmeP5gMN8Y"
      },
      "source": [
        "from tensorflow.keras.preprocessing.sequence import pad_sequences\n",
        "\n",
        "\n",
        "df=pd.DataFrame()\n",
        "data[\"text\"] = (pad_sequences(data[\"text\"], maxlen=400,padding=\"post\", truncating=\"post\")).tolist()\n",
        "data[\"title\"] = pad_sequences(data[\"title\"], maxlen=400,padding=\"post\", truncating=\"post\").tolist()"
      ],
      "execution_count": 5,
      "outputs": []
    },
    {
      "cell_type": "code",
      "metadata": {
        "id": "KoGSlGS7MQut"
      },
      "source": [
        "from pathlib import Path\n",
        "import numpy as np\n",
        "from keras.preprocessing.text import Tokenizer\n",
        "\n",
        "def load_glove(url):\n",
        "    f = open(url.absolute())\n",
        "    embeddings_index = dict()\n",
        "    for line in f:\n",
        "        values = line.split()\n",
        "        word = values[0]\n",
        "        coefs = np.asarray(values[1:], dtype=\"float32\")\n",
        "        embeddings_index[word] = coefs\n",
        "    f.close()\n",
        "    return embeddings_index\n",
        "\n",
        "GLOVE_URL = Path(\"/content/gdrive/MyDrive/TICNN_Implementation/TICNN/glove.6B.100d.txt\")\n",
        "glove = load_glove(GLOVE_URL)\n",
        "t = Tokenizer()\n",
        "t.fit_on_texts(glove.keys())\n",
        "vocab_size = len(t.word_index) + 1"
      ],
      "execution_count": 6,
      "outputs": []
    },
    {
      "cell_type": "code",
      "metadata": {
        "id": "7GqlptoMMT-G"
      },
      "source": [
        "embedding_matrix = np.zeros((vocab_size, 100))\n",
        "for word, i in t.word_index.items():\n",
        "    embedding_vector = glove.get(word)\n",
        "    if embedding_vector is not None:\n",
        "        embedding_matrix[i] = embedding_vector"
      ],
      "execution_count": 7,
      "outputs": []
    },
    {
      "cell_type": "code",
      "metadata": {
        "id": "6q1IQSDQMbpZ"
      },
      "source": [
        "X_train, X_test, y_train, y_test = train_test_split(\n",
        "    data[['text', 'title']], data['type'], test_size=0.1, random_state=1)\n",
        "\n",
        "#Train - valid\n",
        "X_train, X_valid, y_train, y_valid = train_test_split(\n",
        "    X_train, y_train, test_size=0.1, random_state=1)"
      ],
      "execution_count": 8,
      "outputs": []
    },
    {
      "cell_type": "code",
      "metadata": {
        "id": "Wsf1DZReMdSS"
      },
      "source": [
        "X_train_title = X_train['title']\n",
        "X_train_content = X_train['text']\n",
        "\n",
        "X_valid_title = X_valid['title']\n",
        "X_valid_content = X_valid['text']\n",
        "\n",
        "X_test_title = X_test['title']\n",
        "X_test_content = X_test['text']"
      ],
      "execution_count": 9,
      "outputs": []
    },
    {
      "cell_type": "code",
      "metadata": {
        "id": "LzDBtQ3ZMpud"
      },
      "source": [
        "train_fit = [np.asarray(X_train_title.tolist()), \n",
        "             np.asarray(X_train_content.tolist())]\n",
        "\n",
        "valid_fit = [np.asarray(X_valid_title.tolist()), \n",
        "             np.asarray(X_valid_content.tolist())]\n",
        "\n",
        "test_fit = [np.asarray(X_test_title.tolist()), \n",
        "             np.asarray(X_test_content.tolist())]"
      ],
      "execution_count": 10,
      "outputs": []
    },
    {
      "cell_type": "code",
      "metadata": {
        "colab": {
          "base_uri": "https://localhost:8080/"
        },
        "id": "l7U4hdjkMrSB",
        "outputId": "43afe864-3ee3-4ef8-969e-3c06c923f911"
      },
      "source": [
        "\n",
        "!pip install scikit-optimize\n",
        "\n",
        "import skopt\n",
        "\n",
        "from skopt.space import Real, Integer, Categorical\n",
        "from skopt.utils import use_named_args\n",
        "from skopt.plots import plot_objective\n",
        "\n",
        "from numpy.random import seed\n",
        "\n",
        "\n",
        "import tensorflow as tf\n",
        "\n",
        "import os"
      ],
      "execution_count": 11,
      "outputs": [
        {
          "output_type": "stream",
          "text": [
            "Collecting scikit-optimize\n",
            "\u001b[?25l  Downloading https://files.pythonhosted.org/packages/8b/03/be33e89f55866065a02e515c5b319304a801a9f1027a9b311a9b1d1f8dc7/scikit_optimize-0.8.1-py2.py3-none-any.whl (101kB)\n",
            "\r\u001b[K     |███▎                            | 10kB 15.2MB/s eta 0:00:01\r\u001b[K     |██████▌                         | 20kB 17.5MB/s eta 0:00:01\r\u001b[K     |█████████▊                      | 30kB 5.6MB/s eta 0:00:01\r\u001b[K     |█████████████                   | 40kB 6.9MB/s eta 0:00:01\r\u001b[K     |████████████████▏               | 51kB 8.2MB/s eta 0:00:01\r\u001b[K     |███████████████████▍            | 61kB 8.4MB/s eta 0:00:01\r\u001b[K     |██████████████████████▊         | 71kB 8.3MB/s eta 0:00:01\r\u001b[K     |██████████████████████████      | 81kB 9.1MB/s eta 0:00:01\r\u001b[K     |█████████████████████████████▏  | 92kB 7.4MB/s eta 0:00:01\r\u001b[K     |████████████████████████████████| 102kB 5.0MB/s \n",
            "\u001b[?25hRequirement already satisfied: scipy>=0.19.1 in /usr/local/lib/python3.7/dist-packages (from scikit-optimize) (1.4.1)\n",
            "Requirement already satisfied: numpy>=1.13.3 in /usr/local/lib/python3.7/dist-packages (from scikit-optimize) (1.19.5)\n",
            "Requirement already satisfied: scikit-learn>=0.20.0 in /usr/local/lib/python3.7/dist-packages (from scikit-optimize) (0.22.2.post1)\n",
            "Requirement already satisfied: joblib>=0.11 in /usr/local/lib/python3.7/dist-packages (from scikit-optimize) (1.0.1)\n",
            "Collecting pyaml>=16.9\n",
            "  Downloading https://files.pythonhosted.org/packages/15/c4/1310a054d33abc318426a956e7d6df0df76a6ddfa9c66f6310274fb75d42/pyaml-20.4.0-py2.py3-none-any.whl\n",
            "Requirement already satisfied: PyYAML in /usr/local/lib/python3.7/dist-packages (from pyaml>=16.9->scikit-optimize) (3.13)\n",
            "Installing collected packages: pyaml, scikit-optimize\n",
            "Successfully installed pyaml-20.4.0 scikit-optimize-0.8.1\n"
          ],
          "name": "stdout"
        }
      ]
    },
    {
      "cell_type": "code",
      "metadata": {
        "id": "_mcszEwkMtzG"
      },
      "source": [
        "space  = [Real(1e-5, 0.4, name='lr'),\n",
        "          \n",
        "          Real(1e-3, 0.1, name='momentum'),\n",
        "          Real(0.1, 0.3, name='dropout1'),\n",
        "          Integer(50,100, name='dense1'),\n",
        "          Integer(20,50, name='dense2'),\n",
        "          Integer(20,100, name='lstmTitle'),\n",
        "          Integer(50,300, name='lstmContent')]\n",
        "\n",
        "\n",
        "@use_named_args(space)\n",
        "def lstm_model(**params):\n",
        "    \n",
        "    x_train = train_fit\n",
        "    y_train2 = np.array(y_train.tolist())\n",
        "    \n",
        "    x_valid = valid_fit\n",
        "    y_valid2 = np.array(y_valid.tolist())\n",
        "    \n",
        "    x_test = test_fit\n",
        "    y_test2 = np.array(y_test.tolist())\n",
        "\n",
        "    #Reproducible weights\n",
        "    seed(50)\n",
        "    tf.random.set_seed(50)\n",
        "    k.backend.clear_session()\n",
        "    \n",
        "    \n",
        "    \n",
        "\n",
        "    #input_title\n",
        "    title_input = k.layers.Input(shape=(400,), name='title_input')\n",
        "    inp = k.layers.Embedding(output_dim=100, input_dim=339252, \n",
        "                             weights=[embedding_matrix], trainable=False)(title_input)\n",
        "    x = k.layers.Bidirectional(k.layers.LSTM(params['lstmTitle']))(inp)\n",
        "    #CudnnLSTM\n",
        "\n",
        "    #input_content\n",
        "    content_input = k.layers.Input(shape=(400,), name='content_input')\n",
        "    inp2 = k.layers.Embedding(output_dim=100, input_dim=339252, \n",
        "                             weights=[embedding_matrix], trainable=False)(content_input)\n",
        "    x2 = k.layers.Bidirectional(k.layers.LSTM(params['lstmContent']))(inp2)\n",
        "    #CudnnLSTM\n",
        "\n",
        "    #Merge\n",
        "    x = k.layers.concatenate([x, x2])\n",
        "\n",
        "\n",
        "    #Common part\n",
        "    x = k.layers.Dense(params['dense1'], activation='relu')(x)\n",
        "    x = k.layers.Dropout(params['dropout1'])(x)\n",
        "    x = k.layers.Dense(params['dense2'], activation='relu')(x)\n",
        "    x = k.layers.Dropout(0.2)(x)\n",
        "\n",
        "    out = k.layers.Dense(1, activation='sigmoid')(x)\n",
        "\n",
        "    #Build model\n",
        "    model = k.models.Model(inputs=[title_input, content_input], outputs=[out])\n",
        "\n",
        "    #model.compile(k.optimizers.SGD(), loss='categorical_crossentropy', metrics=['acc'])\n",
        "    from keras.optimizers import Adam\n",
        "    opt = Adam(lr=1e-3, decay=1e-3 / 200)\n",
        "    model.compile(loss='binary_crossentropy', optimizer=opt, metrics=['accuracy'])      \n",
        "    out = model.fit(x=train_fit, y=np.asarray(y_train.tolist()), batch_size=64*8, epochs=30,validation_data=(valid_fit, np.array(y_valid.tolist())))\n",
        "        \n",
        "    #Evaluation\n",
        "    acc = model.evaluate(x=x_test, y=y_test2)\n",
        "    return -acc[1] #Maximize accuracy"
      ],
      "execution_count": 12,
      "outputs": []
    },
    {
      "cell_type": "code",
      "metadata": {
        "colab": {
          "base_uri": "https://localhost:8080/"
        },
        "id": "HjCoHK11Myft",
        "outputId": "73609264-33fa-40a6-f80d-386db81496c6"
      },
      "source": [
        "r = skopt.gp_minimize(lstm_model, n_random_starts=3, n_calls=3, dimensions=space)"
      ],
      "execution_count": 13,
      "outputs": [
        {
          "output_type": "stream",
          "text": [
            "Epoch 1/30\n",
            "32/32 [==============================] - 48s 366ms/step - loss: 0.5816 - accuracy: 0.6833 - val_loss: 0.3931 - val_accuracy: 0.8257\n",
            "Epoch 2/30\n",
            "32/32 [==============================] - 10s 323ms/step - loss: 0.3739 - accuracy: 0.8406 - val_loss: 0.3288 - val_accuracy: 0.8629\n",
            "Epoch 3/30\n",
            "32/32 [==============================] - 10s 325ms/step - loss: 0.3007 - accuracy: 0.8791 - val_loss: 0.2525 - val_accuracy: 0.8979\n",
            "Epoch 4/30\n",
            "32/32 [==============================] - 10s 327ms/step - loss: 0.2450 - accuracy: 0.8992 - val_loss: 0.2380 - val_accuracy: 0.8979\n",
            "Epoch 5/30\n",
            "32/32 [==============================] - 11s 332ms/step - loss: 0.2098 - accuracy: 0.9160 - val_loss: 0.2223 - val_accuracy: 0.9062\n",
            "Epoch 6/30\n",
            "32/32 [==============================] - 11s 330ms/step - loss: 0.1908 - accuracy: 0.9233 - val_loss: 0.2310 - val_accuracy: 0.9007\n",
            "Epoch 7/30\n",
            "32/32 [==============================] - 11s 331ms/step - loss: 0.1736 - accuracy: 0.9309 - val_loss: 0.2160 - val_accuracy: 0.9179\n",
            "Epoch 8/30\n",
            "32/32 [==============================] - 11s 335ms/step - loss: 0.1647 - accuracy: 0.9322 - val_loss: 0.1866 - val_accuracy: 0.9195\n",
            "Epoch 9/30\n",
            "32/32 [==============================] - 11s 336ms/step - loss: 0.1414 - accuracy: 0.9457 - val_loss: 0.1944 - val_accuracy: 0.9190\n",
            "Epoch 10/30\n",
            "32/32 [==============================] - 11s 336ms/step - loss: 0.1282 - accuracy: 0.9512 - val_loss: 0.2148 - val_accuracy: 0.9234\n",
            "Epoch 11/30\n",
            "32/32 [==============================] - 11s 338ms/step - loss: 0.1203 - accuracy: 0.9545 - val_loss: 0.1760 - val_accuracy: 0.9256\n",
            "Epoch 12/30\n",
            "32/32 [==============================] - 11s 339ms/step - loss: 0.1048 - accuracy: 0.9601 - val_loss: 0.2022 - val_accuracy: 0.9329\n",
            "Epoch 13/30\n",
            "32/32 [==============================] - 11s 342ms/step - loss: 0.0874 - accuracy: 0.9666 - val_loss: 0.1918 - val_accuracy: 0.9356\n",
            "Epoch 14/30\n",
            "32/32 [==============================] - 11s 342ms/step - loss: 0.0858 - accuracy: 0.9664 - val_loss: 0.2009 - val_accuracy: 0.9267\n",
            "Epoch 15/30\n",
            "32/32 [==============================] - 11s 346ms/step - loss: 0.0739 - accuracy: 0.9727 - val_loss: 0.2166 - val_accuracy: 0.9301\n",
            "Epoch 16/30\n",
            "32/32 [==============================] - 11s 345ms/step - loss: 0.0710 - accuracy: 0.9749 - val_loss: 0.2142 - val_accuracy: 0.9317\n",
            "Epoch 17/30\n",
            "32/32 [==============================] - 11s 347ms/step - loss: 0.0468 - accuracy: 0.9840 - val_loss: 0.2175 - val_accuracy: 0.9351\n",
            "Epoch 18/30\n",
            "32/32 [==============================] - 11s 346ms/step - loss: 0.0436 - accuracy: 0.9853 - val_loss: 0.3159 - val_accuracy: 0.9095\n",
            "Epoch 19/30\n",
            "32/32 [==============================] - 11s 349ms/step - loss: 0.0957 - accuracy: 0.9626 - val_loss: 0.2326 - val_accuracy: 0.9295\n",
            "Epoch 20/30\n",
            "32/32 [==============================] - 11s 350ms/step - loss: 0.0419 - accuracy: 0.9849 - val_loss: 0.2321 - val_accuracy: 0.9362\n",
            "Epoch 21/30\n",
            "32/32 [==============================] - 11s 349ms/step - loss: 0.0262 - accuracy: 0.9909 - val_loss: 0.2539 - val_accuracy: 0.9312\n",
            "Epoch 22/30\n",
            "32/32 [==============================] - 11s 349ms/step - loss: 0.0224 - accuracy: 0.9928 - val_loss: 0.2841 - val_accuracy: 0.9301\n",
            "Epoch 23/30\n",
            "32/32 [==============================] - 11s 349ms/step - loss: 0.0221 - accuracy: 0.9910 - val_loss: 0.2993 - val_accuracy: 0.9351\n",
            "Epoch 24/30\n",
            "32/32 [==============================] - 11s 349ms/step - loss: 0.0128 - accuracy: 0.9965 - val_loss: 0.3153 - val_accuracy: 0.9290\n",
            "Epoch 25/30\n",
            "32/32 [==============================] - 11s 350ms/step - loss: 0.0094 - accuracy: 0.9975 - val_loss: 0.3213 - val_accuracy: 0.9362\n",
            "Epoch 26/30\n",
            "32/32 [==============================] - 11s 352ms/step - loss: 0.0085 - accuracy: 0.9974 - val_loss: 0.3450 - val_accuracy: 0.9334\n",
            "Epoch 27/30\n",
            "32/32 [==============================] - 11s 351ms/step - loss: 0.0080 - accuracy: 0.9971 - val_loss: 0.3766 - val_accuracy: 0.9295\n",
            "Epoch 28/30\n",
            "32/32 [==============================] - 11s 352ms/step - loss: 0.0183 - accuracy: 0.9935 - val_loss: 0.3437 - val_accuracy: 0.9284\n",
            "Epoch 29/30\n",
            "32/32 [==============================] - 11s 350ms/step - loss: 0.0081 - accuracy: 0.9968 - val_loss: 0.3829 - val_accuracy: 0.9306\n",
            "Epoch 30/30\n",
            "32/32 [==============================] - 11s 349ms/step - loss: 0.0053 - accuracy: 0.9984 - val_loss: 0.4089 - val_accuracy: 0.9306\n",
            "63/63 [==============================] - 2s 30ms/step - loss: 0.3258 - accuracy: 0.9421\n",
            "Epoch 1/30\n",
            "32/32 [==============================] - 17s 394ms/step - loss: 0.5738 - accuracy: 0.6960 - val_loss: 0.4336 - val_accuracy: 0.8097\n",
            "Epoch 2/30\n",
            "32/32 [==============================] - 11s 351ms/step - loss: 0.3739 - accuracy: 0.8378 - val_loss: 0.2846 - val_accuracy: 0.8829\n",
            "Epoch 3/30\n",
            "32/32 [==============================] - 11s 355ms/step - loss: 0.2725 - accuracy: 0.8890 - val_loss: 0.2773 - val_accuracy: 0.8824\n",
            "Epoch 4/30\n",
            "32/32 [==============================] - 11s 356ms/step - loss: 0.2282 - accuracy: 0.9039 - val_loss: 0.2287 - val_accuracy: 0.8996\n",
            "Epoch 5/30\n",
            "32/32 [==============================] - 11s 353ms/step - loss: 0.1923 - accuracy: 0.9228 - val_loss: 0.2202 - val_accuracy: 0.9073\n",
            "Epoch 6/30\n",
            "32/32 [==============================] - 11s 351ms/step - loss: 0.1714 - accuracy: 0.9305 - val_loss: 0.1973 - val_accuracy: 0.9195\n",
            "Epoch 7/30\n",
            "32/32 [==============================] - 11s 352ms/step - loss: 0.1560 - accuracy: 0.9363 - val_loss: 0.2085 - val_accuracy: 0.9184\n",
            "Epoch 8/30\n",
            "32/32 [==============================] - 11s 354ms/step - loss: 0.1478 - accuracy: 0.9406 - val_loss: 0.1842 - val_accuracy: 0.9245\n",
            "Epoch 9/30\n",
            "32/32 [==============================] - 11s 353ms/step - loss: 0.1372 - accuracy: 0.9456 - val_loss: 0.1970 - val_accuracy: 0.9201\n",
            "Epoch 10/30\n",
            "32/32 [==============================] - 11s 356ms/step - loss: 0.1236 - accuracy: 0.9527 - val_loss: 0.1869 - val_accuracy: 0.9245\n",
            "Epoch 11/30\n",
            "32/32 [==============================] - 11s 356ms/step - loss: 0.1165 - accuracy: 0.9571 - val_loss: 0.1988 - val_accuracy: 0.9295\n",
            "Epoch 12/30\n",
            "32/32 [==============================] - 11s 352ms/step - loss: 0.0911 - accuracy: 0.9667 - val_loss: 0.1851 - val_accuracy: 0.9323\n",
            "Epoch 13/30\n",
            "32/32 [==============================] - 11s 351ms/step - loss: 0.0742 - accuracy: 0.9752 - val_loss: 0.1979 - val_accuracy: 0.9334\n",
            "Epoch 14/30\n",
            "32/32 [==============================] - 11s 352ms/step - loss: 0.0731 - accuracy: 0.9728 - val_loss: 0.1956 - val_accuracy: 0.9367\n",
            "Epoch 15/30\n",
            "32/32 [==============================] - 11s 354ms/step - loss: 0.0655 - accuracy: 0.9777 - val_loss: 0.1954 - val_accuracy: 0.9345\n",
            "Epoch 16/30\n",
            "32/32 [==============================] - 11s 352ms/step - loss: 0.0524 - accuracy: 0.9819 - val_loss: 0.2270 - val_accuracy: 0.9267\n",
            "Epoch 17/30\n",
            "32/32 [==============================] - 11s 353ms/step - loss: 0.0464 - accuracy: 0.9828 - val_loss: 0.2026 - val_accuracy: 0.9329\n",
            "Epoch 18/30\n",
            "32/32 [==============================] - 11s 352ms/step - loss: 0.0290 - accuracy: 0.9901 - val_loss: 0.2241 - val_accuracy: 0.9345\n",
            "Epoch 19/30\n",
            "32/32 [==============================] - 11s 352ms/step - loss: 0.0273 - accuracy: 0.9908 - val_loss: 0.2430 - val_accuracy: 0.9312\n",
            "Epoch 20/30\n",
            "32/32 [==============================] - 11s 351ms/step - loss: 0.0185 - accuracy: 0.9941 - val_loss: 0.2786 - val_accuracy: 0.9378\n",
            "Epoch 21/30\n",
            "32/32 [==============================] - 11s 352ms/step - loss: 0.0158 - accuracy: 0.9946 - val_loss: 0.2698 - val_accuracy: 0.9367\n",
            "Epoch 22/30\n",
            "32/32 [==============================] - 11s 352ms/step - loss: 0.0177 - accuracy: 0.9950 - val_loss: 0.2523 - val_accuracy: 0.9356\n",
            "Epoch 23/30\n",
            "32/32 [==============================] - 11s 353ms/step - loss: 0.0097 - accuracy: 0.9975 - val_loss: 0.3149 - val_accuracy: 0.9329\n",
            "Epoch 24/30\n",
            "32/32 [==============================] - 11s 351ms/step - loss: 0.0034 - accuracy: 0.9996 - val_loss: 0.3194 - val_accuracy: 0.9362\n",
            "Epoch 25/30\n",
            "32/32 [==============================] - 11s 349ms/step - loss: 0.0066 - accuracy: 0.9981 - val_loss: 0.3117 - val_accuracy: 0.9351\n",
            "Epoch 26/30\n",
            "32/32 [==============================] - 11s 352ms/step - loss: 0.0118 - accuracy: 0.9954 - val_loss: 0.3257 - val_accuracy: 0.9317\n",
            "Epoch 27/30\n",
            "32/32 [==============================] - 11s 349ms/step - loss: 0.0058 - accuracy: 0.9982 - val_loss: 0.3385 - val_accuracy: 0.9356\n",
            "Epoch 28/30\n",
            "32/32 [==============================] - 11s 351ms/step - loss: 0.0086 - accuracy: 0.9974 - val_loss: 0.3171 - val_accuracy: 0.9301\n",
            "Epoch 29/30\n",
            "32/32 [==============================] - 11s 349ms/step - loss: 0.0108 - accuracy: 0.9967 - val_loss: 0.3226 - val_accuracy: 0.9345\n",
            "Epoch 30/30\n",
            "32/32 [==============================] - 11s 350ms/step - loss: 0.0103 - accuracy: 0.9969 - val_loss: 0.3524 - val_accuracy: 0.9168\n",
            "63/63 [==============================] - 2s 28ms/step - loss: 0.2736 - accuracy: 0.9361\n",
            "Epoch 1/30\n",
            "32/32 [==============================] - 18s 389ms/step - loss: 0.5738 - accuracy: 0.6960 - val_loss: 0.4336 - val_accuracy: 0.8097\n",
            "Epoch 2/30\n",
            "32/32 [==============================] - 11s 353ms/step - loss: 0.3739 - accuracy: 0.8378 - val_loss: 0.2847 - val_accuracy: 0.8840\n",
            "Epoch 3/30\n",
            "32/32 [==============================] - 11s 357ms/step - loss: 0.2728 - accuracy: 0.8892 - val_loss: 0.2521 - val_accuracy: 0.8973\n",
            "Epoch 4/30\n",
            "32/32 [==============================] - 11s 354ms/step - loss: 0.2247 - accuracy: 0.9075 - val_loss: 0.2438 - val_accuracy: 0.9012\n",
            "Epoch 5/30\n",
            "32/32 [==============================] - 11s 353ms/step - loss: 0.1910 - accuracy: 0.9231 - val_loss: 0.2221 - val_accuracy: 0.9051\n",
            "Epoch 6/30\n",
            "32/32 [==============================] - 11s 349ms/step - loss: 0.1945 - accuracy: 0.9218 - val_loss: 0.2170 - val_accuracy: 0.9079\n",
            "Epoch 7/30\n",
            "32/32 [==============================] - 11s 350ms/step - loss: 0.1682 - accuracy: 0.9314 - val_loss: 0.2157 - val_accuracy: 0.9168\n",
            "Epoch 8/30\n",
            "32/32 [==============================] - 11s 351ms/step - loss: 0.1498 - accuracy: 0.9402 - val_loss: 0.1926 - val_accuracy: 0.9229\n",
            "Epoch 9/30\n",
            "32/32 [==============================] - 11s 353ms/step - loss: 0.1401 - accuracy: 0.9461 - val_loss: 0.1931 - val_accuracy: 0.9223\n",
            "Epoch 10/30\n",
            "32/32 [==============================] - 11s 352ms/step - loss: 0.1170 - accuracy: 0.9561 - val_loss: 0.2047 - val_accuracy: 0.9279\n",
            "Epoch 11/30\n",
            "32/32 [==============================] - 11s 353ms/step - loss: 0.1132 - accuracy: 0.9577 - val_loss: 0.1974 - val_accuracy: 0.9256\n",
            "Epoch 12/30\n",
            "32/32 [==============================] - 11s 353ms/step - loss: 0.0940 - accuracy: 0.9648 - val_loss: 0.2130 - val_accuracy: 0.9162\n",
            "Epoch 13/30\n",
            "32/32 [==============================] - 11s 350ms/step - loss: 0.0883 - accuracy: 0.9667 - val_loss: 0.2030 - val_accuracy: 0.9317\n",
            "Epoch 14/30\n",
            "32/32 [==============================] - 11s 353ms/step - loss: 0.0659 - accuracy: 0.9760 - val_loss: 0.1868 - val_accuracy: 0.9323\n",
            "Epoch 15/30\n",
            "32/32 [==============================] - 11s 352ms/step - loss: 0.0587 - accuracy: 0.9784 - val_loss: 0.2112 - val_accuracy: 0.9329\n",
            "Epoch 16/30\n",
            "32/32 [==============================] - 11s 350ms/step - loss: 0.0476 - accuracy: 0.9850 - val_loss: 0.2008 - val_accuracy: 0.9334\n",
            "Epoch 17/30\n",
            "32/32 [==============================] - 11s 352ms/step - loss: 0.0468 - accuracy: 0.9825 - val_loss: 0.2009 - val_accuracy: 0.9345\n",
            "Epoch 18/30\n",
            "32/32 [==============================] - 11s 351ms/step - loss: 0.0332 - accuracy: 0.9890 - val_loss: 0.2280 - val_accuracy: 0.9378\n",
            "Epoch 19/30\n",
            "32/32 [==============================] - 11s 351ms/step - loss: 0.0241 - accuracy: 0.9928 - val_loss: 0.2469 - val_accuracy: 0.9367\n",
            "Epoch 20/30\n",
            "32/32 [==============================] - 11s 350ms/step - loss: 0.0137 - accuracy: 0.9967 - val_loss: 0.2967 - val_accuracy: 0.9329\n",
            "Epoch 21/30\n",
            "32/32 [==============================] - 11s 350ms/step - loss: 0.0192 - accuracy: 0.9930 - val_loss: 0.2814 - val_accuracy: 0.9351\n",
            "Epoch 22/30\n",
            "32/32 [==============================] - 11s 348ms/step - loss: 0.0155 - accuracy: 0.9946 - val_loss: 0.3514 - val_accuracy: 0.9184\n",
            "Epoch 23/30\n",
            "32/32 [==============================] - 11s 353ms/step - loss: 0.0401 - accuracy: 0.9858 - val_loss: 0.2743 - val_accuracy: 0.9384\n",
            "Epoch 24/30\n",
            "32/32 [==============================] - 11s 349ms/step - loss: 0.0124 - accuracy: 0.9964 - val_loss: 0.2906 - val_accuracy: 0.9334\n",
            "Epoch 25/30\n",
            "32/32 [==============================] - 11s 350ms/step - loss: 0.0047 - accuracy: 0.9994 - val_loss: 0.3328 - val_accuracy: 0.9378\n",
            "Epoch 26/30\n",
            "32/32 [==============================] - 11s 351ms/step - loss: 0.0050 - accuracy: 0.9985 - val_loss: 0.3197 - val_accuracy: 0.9340\n",
            "Epoch 27/30\n",
            "32/32 [==============================] - 11s 349ms/step - loss: 0.0021 - accuracy: 0.9996 - val_loss: 0.3930 - val_accuracy: 0.9362\n",
            "Epoch 28/30\n",
            "32/32 [==============================] - 11s 350ms/step - loss: 0.0028 - accuracy: 0.9991 - val_loss: 0.3425 - val_accuracy: 0.9329\n",
            "Epoch 29/30\n",
            "32/32 [==============================] - 11s 347ms/step - loss: 0.0046 - accuracy: 0.9988 - val_loss: 0.4014 - val_accuracy: 0.9351\n",
            "Epoch 30/30\n",
            "32/32 [==============================] - 11s 348ms/step - loss: 0.0107 - accuracy: 0.9958 - val_loss: 0.3489 - val_accuracy: 0.9351\n",
            "63/63 [==============================] - 2s 28ms/step - loss: 0.2416 - accuracy: 0.9476\n"
          ],
          "name": "stdout"
        }
      ]
    },
    {
      "cell_type": "code",
      "metadata": {
        "colab": {
          "base_uri": "https://localhost:8080/"
        },
        "id": "HDTVbkTKM1k0",
        "outputId": "d36a18f2-1b3a-4eaf-8a5a-bbb87c6e752f"
      },
      "source": [
        "print(\"PARAMETERS (LR/Optimizer): {}  RESULT {}\".format(r.x, r.fun))"
      ],
      "execution_count": 14,
      "outputs": [
        {
          "output_type": "stream",
          "text": [
            "PARAMETERS (LR/Optimizer): [0.19784571219875324, 0.023580227340484292, 0.15109478475144228, 70, 31, 100, 152]  RESULT -0.9475524425506592\n"
          ],
          "name": "stdout"
        }
      ]
    },
    {
      "cell_type": "code",
      "metadata": {
        "id": "j7GeRR5ONx2v"
      },
      "source": [
        "params_lstm = {\n",
        "    'lr': 0.19784571219875324,\n",
        "    'momentum':0.023580227340484292,\n",
        "    'dropout': 0.15109478475144228,\n",
        "    'dense1': 70,\n",
        "    'dense2': 31,\n",
        "    'lstmTitle': 100,\n",
        "    'lstmContent': 152\n",
        "}\n"
      ],
      "execution_count": 18,
      "outputs": []
    },
    {
      "cell_type": "code",
      "metadata": {
        "id": "I920OP4tNxbA"
      },
      "source": [
        "\n",
        "#Some imports...\n",
        "import tensorflow as tf\n",
        "import os\n",
        "\n",
        "from numpy.random import seed"
      ],
      "execution_count": 19,
      "outputs": []
    },
    {
      "cell_type": "code",
      "metadata": {
        "id": "4HcyDC6hNyck"
      },
      "source": [
        "seed(50)\n",
        "tf.random.set_seed(50)\n",
        "k.backend.clear_session()"
      ],
      "execution_count": 20,
      "outputs": []
    },
    {
      "cell_type": "code",
      "metadata": {
        "colab": {
          "base_uri": "https://localhost:8080/",
          "height": 1000
        },
        "id": "tHIRS8fDN1tj",
        "outputId": "b5ffaec6-05fa-4c8d-9055-1f73df34a543"
      },
      "source": [
        "title_input = k.layers.Input(shape=(400,), name='title_input')\n",
        "inp = k.layers.Embedding(output_dim=100, input_dim=339252, \n",
        "                         weights=[embedding_matrix], trainable=False)(title_input)\n",
        "x = k.layers.Bidirectional(k.layers.LSTM(params_lstm['lstmTitle']))(inp)\n",
        "#CudnnLSTM\n",
        "#x = k.layers.Bidirectional(k.layers.CuDNNLSTM(params_lstm['lstmTitle']))(inp)\n",
        "\n",
        "#input_content\n",
        "content_input = k.layers.Input(shape=(400,), name='content_input')\n",
        "inp2 = k.layers.Embedding(output_dim=100, input_dim=339252, \n",
        "                         weights=[embedding_matrix], trainable=False)(content_input)\n",
        "x2 = k.layers.Bidirectional(k.layers.LSTM(params_lstm['lstmContent']))(inp2)\n",
        "#CudnnLSTM\n",
        "#x2 = k.layers.Bidirectional(k.layers.CuDNNLSTM(params_lstm['lstmContent']))(inp2)\n",
        "\n",
        "#Merge\n",
        "x = k.layers.concatenate([x, x2])\n",
        "\n",
        "\n",
        "#Common part\n",
        "x = k.layers.Dense(params_lstm['dense1'], activation='relu')(x)\n",
        "x = k.layers.Dropout(params_lstm['dropout'])(x)\n",
        "x = k.layers.Dense(params_lstm['dense2'], activation='relu')(x)\n",
        "x = k.layers.Dropout(0.2)(x)\n",
        "\n",
        "out = k.layers.Dense(1, activation='sigmoid')(x)\n",
        "\n",
        "#Build model\n",
        "model = k.models.Model(inputs=[title_input, content_input], outputs=[out])\n",
        "\n",
        "#model.compile(k.optimizers.SGD(lr=params_lstm['lr'], \n",
        "#                               momentum=params_lstm['momentum']), \n",
        "#                               loss='categorical_crossentropy', metrics=['acc'])\n",
        "\n",
        "from keras.optimizers import Adam\n",
        "opt = Adam(lr=1e-3, decay=1e-3 / 200)\n",
        "model.compile(loss='binary_crossentropy', optimizer=opt, metrics=['accuracy'])\n",
        "\n",
        "model.summary()\n",
        "from keras.utils.vis_utils import plot_model\n",
        "plot_model(model,show_shapes=True, show_layer_names=True)"
      ],
      "execution_count": 21,
      "outputs": [
        {
          "output_type": "stream",
          "text": [
            "Model: \"model\"\n",
            "__________________________________________________________________________________________________\n",
            "Layer (type)                    Output Shape         Param #     Connected to                     \n",
            "==================================================================================================\n",
            "title_input (InputLayer)        [(None, 400)]        0                                            \n",
            "__________________________________________________________________________________________________\n",
            "content_input (InputLayer)      [(None, 400)]        0                                            \n",
            "__________________________________________________________________________________________________\n",
            "embedding (Embedding)           (None, 400, 100)     33925200    title_input[0][0]                \n",
            "__________________________________________________________________________________________________\n",
            "embedding_1 (Embedding)         (None, 400, 100)     33925200    content_input[0][0]              \n",
            "__________________________________________________________________________________________________\n",
            "bidirectional (Bidirectional)   (None, 200)          160800      embedding[0][0]                  \n",
            "__________________________________________________________________________________________________\n",
            "bidirectional_1 (Bidirectional) (None, 304)          307648      embedding_1[0][0]                \n",
            "__________________________________________________________________________________________________\n",
            "concatenate (Concatenate)       (None, 504)          0           bidirectional[0][0]              \n",
            "                                                                 bidirectional_1[0][0]            \n",
            "__________________________________________________________________________________________________\n",
            "dense (Dense)                   (None, 70)           35350       concatenate[0][0]                \n",
            "__________________________________________________________________________________________________\n",
            "dropout (Dropout)               (None, 70)           0           dense[0][0]                      \n",
            "__________________________________________________________________________________________________\n",
            "dense_1 (Dense)                 (None, 31)           2201        dropout[0][0]                    \n",
            "__________________________________________________________________________________________________\n",
            "dropout_1 (Dropout)             (None, 31)           0           dense_1[0][0]                    \n",
            "__________________________________________________________________________________________________\n",
            "dense_2 (Dense)                 (None, 1)            32          dropout_1[0][0]                  \n",
            "==================================================================================================\n",
            "Total params: 68,356,431\n",
            "Trainable params: 506,031\n",
            "Non-trainable params: 67,850,400\n",
            "__________________________________________________________________________________________________\n"
          ],
          "name": "stdout"
        },
        {
          "output_type": "execute_result",
          "data": {
            "image/png": "[encoded data removed]",
            "text/plain": [
              "<IPython.core.display.Image object>"
            ]
          },
          "metadata": {
            "tags": []
          },
          "execution_count": 21
        }
      ]
    },
    {
      "cell_type": "code",
      "metadata": {
        "colab": {
          "base_uri": "https://localhost:8080/"
        },
        "id": "aJK3pPLvN6OI",
        "outputId": "c1c7da52-f62d-4341-bfec-f9df684dd653"
      },
      "source": [
        "from tensorflow.keras.callbacks import ModelCheckpoint\n",
        "#model = tpu_model\n",
        "hist = model.fit(x=train_fit, y=np.asarray(y_train.tolist()), batch_size=64*8, epochs=30,\n",
        "         \n",
        "                 validation_data=(valid_fit, np.array(y_valid.tolist())))"
      ],
      "execution_count": 26,
      "outputs": [
        {
          "output_type": "stream",
          "text": [
            "Epoch 1/30\n",
            "32/32 [==============================] - 11s 337ms/step - loss: 0.0645 - accuracy: 0.9762 - val_loss: 0.1957 - val_accuracy: 0.9279\n",
            "Epoch 2/30\n",
            "32/32 [==============================] - 11s 338ms/step - loss: 0.0516 - accuracy: 0.9825 - val_loss: 0.2110 - val_accuracy: 0.9290\n",
            "Epoch 3/30\n",
            "32/32 [==============================] - 11s 340ms/step - loss: 0.0469 - accuracy: 0.9839 - val_loss: 0.2584 - val_accuracy: 0.9295\n",
            "Epoch 4/30\n",
            "32/32 [==============================] - 11s 338ms/step - loss: 0.0464 - accuracy: 0.9823 - val_loss: 0.2388 - val_accuracy: 0.9295\n",
            "Epoch 5/30\n",
            "32/32 [==============================] - 11s 341ms/step - loss: 0.0347 - accuracy: 0.9873 - val_loss: 0.2175 - val_accuracy: 0.9334\n",
            "Epoch 6/30\n",
            "32/32 [==============================] - 11s 341ms/step - loss: 0.0309 - accuracy: 0.9904 - val_loss: 0.2602 - val_accuracy: 0.9273\n",
            "Epoch 7/30\n",
            "32/32 [==============================] - 11s 342ms/step - loss: 0.0206 - accuracy: 0.9942 - val_loss: 0.2525 - val_accuracy: 0.9356\n",
            "Epoch 8/30\n",
            "32/32 [==============================] - 11s 346ms/step - loss: 0.0133 - accuracy: 0.9961 - val_loss: 0.3035 - val_accuracy: 0.9340\n",
            "Epoch 9/30\n",
            "32/32 [==============================] - 11s 344ms/step - loss: 0.0276 - accuracy: 0.9911 - val_loss: 0.2357 - val_accuracy: 0.9306\n",
            "Epoch 10/30\n",
            "32/32 [==============================] - 11s 344ms/step - loss: 0.0122 - accuracy: 0.9969 - val_loss: 0.3056 - val_accuracy: 0.9317\n",
            "Epoch 11/30\n",
            "32/32 [==============================] - 11s 344ms/step - loss: 0.0052 - accuracy: 0.9986 - val_loss: 0.3307 - val_accuracy: 0.9362\n",
            "Epoch 12/30\n",
            "32/32 [==============================] - 11s 345ms/step - loss: 0.0051 - accuracy: 0.9988 - val_loss: 0.3325 - val_accuracy: 0.9351\n",
            "Epoch 13/30\n",
            "32/32 [==============================] - 11s 347ms/step - loss: 0.0056 - accuracy: 0.9987 - val_loss: 0.3536 - val_accuracy: 0.9367\n",
            "Epoch 14/30\n",
            "32/32 [==============================] - 11s 345ms/step - loss: 0.0079 - accuracy: 0.9972 - val_loss: 0.3452 - val_accuracy: 0.9295\n",
            "Epoch 15/30\n",
            "32/32 [==============================] - 11s 351ms/step - loss: 0.0137 - accuracy: 0.9949 - val_loss: 0.2972 - val_accuracy: 0.9390\n",
            "Epoch 16/30\n",
            "32/32 [==============================] - 11s 348ms/step - loss: 0.0073 - accuracy: 0.9975 - val_loss: 0.3445 - val_accuracy: 0.9351\n",
            "Epoch 17/30\n",
            "32/32 [==============================] - 11s 348ms/step - loss: 0.0037 - accuracy: 0.9992 - val_loss: 0.3444 - val_accuracy: 0.9362\n",
            "Epoch 18/30\n",
            "32/32 [==============================] - 11s 346ms/step - loss: 0.0017 - accuracy: 0.9998 - val_loss: 0.3640 - val_accuracy: 0.9356\n",
            "Epoch 19/30\n",
            "32/32 [==============================] - 11s 346ms/step - loss: 0.0014 - accuracy: 0.9997 - val_loss: 0.3978 - val_accuracy: 0.9351\n",
            "Epoch 20/30\n",
            "32/32 [==============================] - 11s 348ms/step - loss: 0.0010 - accuracy: 0.9998 - val_loss: 0.4114 - val_accuracy: 0.9367\n",
            "Epoch 21/30\n",
            "32/32 [==============================] - 11s 347ms/step - loss: 0.0010 - accuracy: 0.9998 - val_loss: 0.3900 - val_accuracy: 0.9390\n",
            "Epoch 22/30\n",
            "32/32 [==============================] - 11s 347ms/step - loss: 4.7636e-04 - accuracy: 1.0000 - val_loss: 0.4121 - val_accuracy: 0.9395\n",
            "Epoch 23/30\n",
            "32/32 [==============================] - 11s 347ms/step - loss: 3.2190e-04 - accuracy: 1.0000 - val_loss: 0.4300 - val_accuracy: 0.9373\n",
            "Epoch 24/30\n",
            "32/32 [==============================] - 11s 346ms/step - loss: 2.0143e-04 - accuracy: 1.0000 - val_loss: 0.4415 - val_accuracy: 0.9373\n",
            "Epoch 25/30\n",
            "32/32 [==============================] - 11s 345ms/step - loss: 1.3276e-04 - accuracy: 1.0000 - val_loss: 0.4555 - val_accuracy: 0.9367\n",
            "Epoch 26/30\n",
            "32/32 [==============================] - 11s 344ms/step - loss: 9.7706e-05 - accuracy: 1.0000 - val_loss: 0.4694 - val_accuracy: 0.9362\n",
            "Epoch 27/30\n",
            "32/32 [==============================] - 11s 344ms/step - loss: 1.0487e-04 - accuracy: 1.0000 - val_loss: 0.4737 - val_accuracy: 0.9378\n",
            "Epoch 28/30\n",
            "32/32 [==============================] - 11s 344ms/step - loss: 1.8116e-04 - accuracy: 0.9999 - val_loss: 0.4754 - val_accuracy: 0.9351\n",
            "Epoch 29/30\n",
            "32/32 [==============================] - 11s 346ms/step - loss: 8.9543e-04 - accuracy: 0.9998 - val_loss: 0.4552 - val_accuracy: 0.9323\n",
            "Epoch 30/30\n",
            "32/32 [==============================] - 11s 346ms/step - loss: 0.0445 - accuracy: 0.9898 - val_loss: 0.5735 - val_accuracy: 0.9090\n"
          ],
          "name": "stdout"
        }
      ]
    },
    {
      "cell_type": "code",
      "metadata": {
        "id": "8YUUNupeOBYL"
      },
      "source": [
        "model.save(\"model.h5\")"
      ],
      "execution_count": 23,
      "outputs": []
    },
    {
      "cell_type": "code",
      "metadata": {
        "id": "_r0xg5i3RjsR"
      },
      "source": [
        ""
      ],
      "execution_count": null,
      "outputs": []
    }
  ]
}